{
 "cells": [
  {
   "cell_type": "markdown",
   "metadata": {},
   "source": [
    "# Хеш-таблицы"
   ]
  },
  {
   "cell_type": "markdown",
   "metadata": {},
   "source": [
    "Структура данных, которая состоит из хеш-функции и массива с элементами.\n",
    "- В Python хеш-таблица представлена словарем dict()\n",
    "\n",
    "Алгоритм работы хеш-таблицы:\n",
    "- на вход хеш-функции поступают элементы (которые выступают в качестве ключа)\n",
    "- с использованием определенного алгоритма (зависит от хеш-функции) ключи становятся числами и заносятся в массив элементов в качестве индекса\n",
    "\n",
    "Требования предъявляемые к хеш-функции:\n",
    "- должна быть последовательной (Допустим передали строку \"апельсины\" и получили для нее индекс 4. Это значит, что в будущем каждый раз передавая строку \"апельсины\", должени срабатывать индекс 4\n",
    "- разным ключам должны соответствовать разные числа\n",
    "\n",
    "Коэффициент заполнения хеш-таблицы вычисляется по формуле - кол-во эл-ов в хеш-таблице / общее кол-во элементов\n",
    "- Хорошее приближенное правило: изменяйте размер хеш-таблицы, когда коэффициент заполнения превышает 0,7"
   ]
  },
  {
   "cell_type": "code",
   "execution_count": 1,
   "metadata": {},
   "outputs": [],
   "source": [
    "# исключение дубликатов\n",
    "voted = {}\n",
    "def check_voter(name):\n",
    "    if voted.get(name):\n",
    "        print('kick them out!')\n",
    "    else:\n",
    "        voted[name] = True\n",
    "        print('let them vote!')"
   ]
  },
  {
   "cell_type": "code",
   "execution_count": 2,
   "metadata": {},
   "outputs": [
    {
     "name": "stdout",
     "output_type": "stream",
     "text": [
      "let them vote!\n"
     ]
    }
   ],
   "source": [
    "check_voter('tom')"
   ]
  },
  {
   "cell_type": "code",
   "execution_count": 3,
   "metadata": {},
   "outputs": [
    {
     "name": "stdout",
     "output_type": "stream",
     "text": [
      "let them vote!\n"
     ]
    }
   ],
   "source": [
    "check_voter('mike')"
   ]
  },
  {
   "cell_type": "code",
   "execution_count": 4,
   "metadata": {},
   "outputs": [
    {
     "name": "stdout",
     "output_type": "stream",
     "text": [
      "kick them out!\n"
     ]
    }
   ],
   "source": [
    "check_voter('mike')"
   ]
  },
  {
   "cell_type": "code",
   "execution_count": 5,
   "metadata": {},
   "outputs": [],
   "source": [
    "# используем в качеств кэша\n",
    "cache = {}\n",
    "def get_page(url):\n",
    "    if cache.get(url):\n",
    "        return cache[url]\n",
    "    else:\n",
    "        data = get_data_from_server(url)\n",
    "        cache[url] = data\n",
    "        return data"
   ]
  }
 ],
 "metadata": {
  "kernelspec": {
   "display_name": "Python 3",
   "language": "python",
   "name": "python3"
  },
  "language_info": {
   "codemirror_mode": {
    "name": "ipython",
    "version": 3
   },
   "file_extension": ".py",
   "mimetype": "text/x-python",
   "name": "python",
   "nbconvert_exporter": "python",
   "pygments_lexer": "ipython3",
   "version": "3.8.5"
  }
 },
 "nbformat": 4,
 "nbformat_minor": 4
}
