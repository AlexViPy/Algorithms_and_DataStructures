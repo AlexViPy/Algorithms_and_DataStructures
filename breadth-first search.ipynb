{
 "cells": [
  {
   "cell_type": "markdown",
   "metadata": {},
   "source": [
    "# Поиск в ширину"
   ]
  },
  {
   "cell_type": "markdown",
   "metadata": {},
   "source": [
    "Алгоритм позволяет определить, существует ли путь из А в В. Если существует, то позволяет найти кратчайший путь. Для определения кратчайшего пути используется такая абстрактная структура данных как граф"
   ]
  },
  {
   "cell_type": "markdown",
   "metadata": {},
   "source": [
    "# Граф"
   ]
  },
  {
   "cell_type": "markdown",
   "metadata": {},
   "source": [
    "Графы реализуются хеш-таблицами.\n",
    "\n",
    "Граф моделирует набор связей. Состоит из узлов и ребер. Поиск происходит по связям различных уровней. Связи первого уровня предпочтительнее связей второго и тд. Для проверки связей в порядке их добавления используются очереди"
   ]
  },
  {
   "cell_type": "markdown",
   "metadata": {},
   "source": [
    "# Очередь"
   ]
  },
  {
   "cell_type": "markdown",
   "metadata": {},
   "source": [
    "Абстрактная структура данных, хранение элементов в которой организовано по принципу FIFO. Поддерживаются две операции:\n",
    "- добавления (PUSH)\n",
    "- извлечения (POP)\n",
    "В Python для создания двусторонней очереди используется deque() из модуля collections"
   ]
  },
  {
   "cell_type": "code",
   "execution_count": 6,
   "metadata": {},
   "outputs": [],
   "source": [
    "from collections import deque"
   ]
  },
  {
   "cell_type": "code",
   "execution_count": 9,
   "metadata": {},
   "outputs": [
    {
     "name": "stdout",
     "output_type": "stream",
     "text": [
      "deque(['g', 'h', 'i'])\n"
     ]
    }
   ],
   "source": [
    "dq = deque('ghi')\n",
    "print(dq)"
   ]
  },
  {
   "cell_type": "code",
   "execution_count": 10,
   "metadata": {},
   "outputs": [
    {
     "name": "stdout",
     "output_type": "stream",
     "text": [
      "deque(['g', 'h', 'i', 'a', 'b', 'c'])\n"
     ]
    }
   ],
   "source": [
    "dq.append('a')\n",
    "dq.append('b')\n",
    "dq.append('c')\n",
    "print(dq)"
   ]
  },
  {
   "cell_type": "code",
   "execution_count": 11,
   "metadata": {},
   "outputs": [
    {
     "name": "stdout",
     "output_type": "stream",
     "text": [
      "deque(['g', 'h', 'i', 'a', 'b'])\n",
      "deque(['g', 'h', 'i', 'a'])\n",
      "deque(['g', 'h', 'i'])\n"
     ]
    }
   ],
   "source": [
    "dq.pop()\n",
    "print(dq)\n",
    "dq.pop()\n",
    "print(dq)\n",
    "dq.pop()\n",
    "print(dq)"
   ]
  },
  {
   "cell_type": "markdown",
   "metadata": {},
   "source": [
    "## Реализация алгоритма"
   ]
  },
  {
   "cell_type": "markdown",
   "metadata": {},
   "source": [
    "В алгоритме необходимо определить массив для сохранения элементов, чтобы не возникло дублирования элементов.\n",
    "\n",
    "Алгоритма работает пока:\n",
    "- не будет найден искомый элемент;\n",
    "- очередь не опустеет;"
   ]
  },
  {
   "cell_type": "code",
   "execution_count": 12,
   "metadata": {},
   "outputs": [],
   "source": [
    "def search(name):\n",
    "    search_queue = deque()\n",
    "    search_queue += graph[name]\n",
    "    searched = [] # этот массив используется для отслеживания уже проверенных людей\n",
    "    while search_queue:\n",
    "        person = search_queue.popleft()\n",
    "        if not person in searched: # человек проверяется только в том случае, если он не проверялся ранее\n",
    "            if person_is_seller(person):\n",
    "                print(f'{person} is a mango seller!')\n",
    "                return True\n",
    "            else:\n",
    "                search_queue += graph[name]\n",
    "                searched.append(person) # человек помечается как уже проверенный\n",
    "    return False"
   ]
  },
  {
   "cell_type": "markdown",
   "metadata": {},
   "source": [
    "### Время выполнения: О(V+E), где V - количество вершин, E - количество ребер"
   ]
  }
 ],
 "metadata": {
  "kernelspec": {
   "display_name": "Python 3",
   "language": "python",
   "name": "python3"
  },
  "language_info": {
   "codemirror_mode": {
    "name": "ipython",
    "version": 3
   },
   "file_extension": ".py",
   "mimetype": "text/x-python",
   "name": "python",
   "nbconvert_exporter": "python",
   "pygments_lexer": "ipython3",
   "version": "3.8.5"
  }
 },
 "nbformat": 4,
 "nbformat_minor": 4
}
