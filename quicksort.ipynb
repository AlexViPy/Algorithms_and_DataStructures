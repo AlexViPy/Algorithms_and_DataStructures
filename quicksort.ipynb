{
 "cells": [
  {
   "cell_type": "markdown",
   "metadata": {},
   "source": [
    "# Быстрая сортировка"
   ]
  },
  {
   "cell_type": "markdown",
   "metadata": {},
   "source": [
    "- Выбирается элемент, который называется ОПОРНЫМ\n",
    "- Находим элементы меньше опорного и больше опорного, т.е. производим РАЗДЕЛЕНИЕ\n",
    "- Рекурсивно применяем быструю сортировку к двум подмассивам "
   ]
  },
  {
   "cell_type": "markdown",
   "metadata": {},
   "source": [
    "#### Время выполнения: \n",
    "        - худший:  О(n2)\n",
    "        - средний: O(nlogn)"
   ]
  },
  {
   "cell_type": "code",
   "execution_count": 32,
   "metadata": {},
   "outputs": [],
   "source": [
    "import random\n",
    "def quicksort(arr):\n",
    "    if len(arr) < 2:  # базовый случай: массивы с 0 и 1 элементом уже \"отсортированы\"\n",
    "        return arr\n",
    "    else:\n",
    "        pivot = random.choice(arr)               # рекурсивный случай\n",
    "        less = [i for i in arr if i < pivot]     # подмассив всех элементов меньше опорного\n",
    "        greater = [i for i in arr if i > pivot]  # подмассив всех элементов больше опорного\n",
    "        equal = [i for i in arr if i == pivot]\n",
    "        return quicksort(less) + equal + quicksort(greater)"
   ]
  },
  {
   "cell_type": "code",
   "execution_count": 33,
   "metadata": {},
   "outputs": [],
   "source": [
    "my_list = [5, 3, 6, 2, 10]"
   ]
  },
  {
   "cell_type": "code",
   "execution_count": 34,
   "metadata": {},
   "outputs": [
    {
     "name": "stdout",
     "output_type": "stream",
     "text": [
      "[2, 3, 5, 6, 10]\n"
     ]
    }
   ],
   "source": [
    "print(quicksort(my_list))"
   ]
  }
 ],
 "metadata": {
  "kernelspec": {
   "display_name": "Python 3",
   "language": "python",
   "name": "python3"
  },
  "language_info": {
   "codemirror_mode": {
    "name": "ipython",
    "version": 3
   },
   "file_extension": ".py",
   "mimetype": "text/x-python",
   "name": "python",
   "nbconvert_exporter": "python",
   "pygments_lexer": "ipython3",
   "version": "3.8.5"
  }
 },
 "nbformat": 4,
 "nbformat_minor": 4
}
