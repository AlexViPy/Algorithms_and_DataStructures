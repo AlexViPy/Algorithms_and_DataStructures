{
 "cells": [
  {
   "cell_type": "markdown",
   "metadata": {},
   "source": [
    "# Рекурсия"
   ]
  },
  {
   "cell_type": "markdown",
   "metadata": {},
   "source": [
    "### Алгоритм в котором функция вызывает саму себя.\n",
    "- Обязательное условие заключается в необходимости обозначить:\n",
    "    - базовый случай и рекурсивный случай\n",
    "- Если глубина рекурсии слишком большая, то может произойти переполнение оперативной памяти;\n",
    "- Рекурсивные алгоритмы выполняются медленее нерекурсивных;"
   ]
  },
  {
   "cell_type": "code",
   "execution_count": 1,
   "metadata": {},
   "outputs": [],
   "source": [
    "def factorial(num):\n",
    "    if num == 1:\n",
    "        return 1\n",
    "    return factorial(num-1)*num"
   ]
  },
  {
   "cell_type": "code",
   "execution_count": 4,
   "metadata": {},
   "outputs": [
    {
     "name": "stdout",
     "output_type": "stream",
     "text": [
      "120\n"
     ]
    }
   ],
   "source": [
    "print(factorial(5))"
   ]
  },
  {
   "cell_type": "code",
   "execution_count": 23,
   "metadata": {},
   "outputs": [],
   "source": [
    "def fibonachi(num):\n",
    "    if num <= 1:\n",
    "        return num\n",
    "    return fibonachi(num-1)+fibonachi(num-2)"
   ]
  },
  {
   "cell_type": "code",
   "execution_count": 24,
   "metadata": {},
   "outputs": [
    {
     "name": "stdout",
     "output_type": "stream",
     "text": [
      "55\n"
     ]
    }
   ],
   "source": [
    "print(fibonachi(10))"
   ]
  },
  {
   "cell_type": "markdown",
   "metadata": {},
   "source": [
    "# Стек"
   ]
  },
  {
   "cell_type": "markdown",
   "metadata": {},
   "source": [
    "Абстрактная структура данных, представляет собой список элементов, организованных по принципу LIFO. Поддерживает 2 операции:\n",
    "  - занесение (PUSH)\n",
    "  - извлечение (POP)"
   ]
  },
  {
   "cell_type": "markdown",
   "metadata": {},
   "source": [
    "В Python стек можно представить, использую такую структуру данных как list"
   ]
  },
  {
   "cell_type": "code",
   "execution_count": 27,
   "metadata": {},
   "outputs": [],
   "source": [
    "stek = []\n",
    "# заносим элементы в стек \n",
    "stek.append('a')\n",
    "stek.append('b')\n",
    "stek.append('c')"
   ]
  },
  {
   "cell_type": "code",
   "execution_count": 29,
   "metadata": {},
   "outputs": [
    {
     "name": "stdout",
     "output_type": "stream",
     "text": [
      "['a', 'b', 'c']\n"
     ]
    }
   ],
   "source": [
    "print(stek)"
   ]
  },
  {
   "cell_type": "code",
   "execution_count": 30,
   "metadata": {},
   "outputs": [
    {
     "name": "stdout",
     "output_type": "stream",
     "text": [
      "['a', 'b']\n",
      "['a']\n"
     ]
    }
   ],
   "source": [
    "# извлекаем элементы из стека\n",
    "stek.pop()\n",
    "print(stek)\n",
    "stek.pop()\n",
    "print(stek)"
   ]
  },
  {
   "cell_type": "markdown",
   "metadata": {},
   "source": [
    "Срабатывает принцип LIFO (последний зашел - первый вышел). Элемент 'c' который был занесен крайним, извлечен первым и тд"
   ]
  }
 ],
 "metadata": {
  "kernelspec": {
   "display_name": "Python 3",
   "language": "python",
   "name": "python3"
  },
  "language_info": {
   "codemirror_mode": {
    "name": "ipython",
    "version": 3
   },
   "file_extension": ".py",
   "mimetype": "text/x-python",
   "name": "python",
   "nbconvert_exporter": "python",
   "pygments_lexer": "ipython3",
   "version": "3.8.5"
  }
 },
 "nbformat": 4,
 "nbformat_minor": 4
}
